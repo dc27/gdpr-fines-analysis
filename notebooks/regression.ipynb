{
  "cells": [
    {
      "cell_type": "raw",
      "metadata": {},
      "source": [
        "---\n",
        "title: Regression Analysis\n",
        "---"
      ],
      "id": "14f4baf2"
    },
    {
      "cell_type": "code",
      "metadata": {
        "tags": []
      },
      "source": [
        "import numpy as np\n",
        "import pandas as pd\n",
        "import matplotlib.pyplot as plt\n",
        "import seaborn as sns\n",
        "import statsmodels.api as sm\n",
        "\n",
        "import sys\n",
        "sys.path.append(r\"../\")\n",
        "\n",
        "# plot styles\n",
        "import params.plt_params\n",
        "\n",
        "# helper functions\n",
        "from scripts.wrangling_funs import read_and_clean_fines_data, pivot_fines_longer"
      ],
      "id": "e2cd1a7c",
      "execution_count": null,
      "outputs": []
    },
    {
      "cell_type": "code",
      "metadata": {},
      "source": [
        "# read in data, remove zero values for price and convert to long format\n",
        "fines = (\n",
        "    read_and_clean_fines_data(path=\"../data/scraped_fines.csv\")\n",
        "    .pipe(pivot_fines_longer)\n",
        ")"
      ],
      "id": "4cc34acf",
      "execution_count": null,
      "outputs": []
    },
    {
      "cell_type": "code",
      "metadata": {},
      "source": [
        "# df showing article next to how often it was referenced.\n",
        "n_citations = (\n",
        "    fines\n",
        "    .value_counts('article_number')\n",
        "    .reset_index(name='count')\n",
        "    .sort_values('article_number')\n",
        ")"
      ],
      "id": "bc6e45af",
      "execution_count": null,
      "outputs": []
    },
    {
      "cell_type": "markdown",
      "metadata": {},
      "source": [
        "## Creating a dataset for Modelling\n"
      ],
      "id": "89525aaa"
    },
    {
      "cell_type": "code",
      "metadata": {
        "tags": []
      },
      "source": [
        "MIN_CITATIONS = 30\n",
        "INTEREST_VARS = ['year', 'article_number']\n",
        "\n",
        "# pivot data\n",
        "gdpr_model_data = (\n",
        "    fines\n",
        "    .assign(\n",
        "        violated        = 1,\n",
        "        total_fine_euro = lambda x: np.log10(x.total_fine_euro),\n",
        "        year            = lambda x: x.date.dt.year\n",
        "    )\n",
        "    .merge(\n",
        "        n_citations.query(f'count >= {MIN_CITATIONS}'),\n",
        "        how='inner', left_on='article_number', right_on='article_number'\n",
        "        )\n",
        "    .pivot_table(values=['violated'], index=['id', 'total_fine_euro'] + INTEREST_VARS)\n",
        "    .unstack(level=-1, fill_value=0)\n",
        ")\n",
        "\n",
        "# sort out indexing / columns\n",
        "gdpr_model_data.columns = gdpr_model_data.columns.droplevel(0)\n",
        "gdpr_model_data.columns.name = None\n",
        "\n",
        "gdpr_model_data.columns = ['A' + str(col) for col in gdpr_model_data.columns]\n",
        "\n",
        "# gdpr_model_data = pd.get_dummies(gdpr_model_data.reset_index())"
      ],
      "id": "024a87af",
      "execution_count": null,
      "outputs": []
    },
    {
      "cell_type": "code",
      "metadata": {
        "tags": []
      },
      "source": [
        "gdpr_model_data"
      ],
      "id": "1fed2bcd",
      "execution_count": null,
      "outputs": []
    },
    {
      "cell_type": "markdown",
      "metadata": {},
      "source": [
        "# Regressing Article on Total Fine Price\n",
        "\n",
        "With the data in an appropriate form, regression can be performed.\n"
      ],
      "id": "5432dfd9"
    },
    {
      "cell_type": "code",
      "metadata": {
        "tags": []
      },
      "source": [
        "X = gdpr_model_data.drop(columns=[\"id\", \"total_fine_euro\"])\n",
        "y = gdpr_model_data.total_fine_euro\n",
        "\n",
        "mod = sm.OLS(y, X.assign(constant=1).astype('float'))\n",
        "res = mod.fit()\n",
        "\n",
        "coefs = pd.concat([res.params, res.conf_int()], axis=1)\n",
        "\n",
        "coefs.columns = ['estimate', 'ci0', 'ci1']"
      ],
      "id": "e536aa59",
      "execution_count": null,
      "outputs": []
    },
    {
      "cell_type": "code",
      "metadata": {
        "tags": []
      },
      "source": [
        "# make a nice coeficient table for plotting\n",
        "coefTable = (\n",
        "    coefs\n",
        "    .reset_index(names='coef')\n",
        "    .assign(\n",
        "        ci_length = lambda x: x.ci1 - x.estimate,\n",
        "        hits0     = lambda x: (0 > x.ci0) & (0 < x.ci1)\n",
        "    )\n",
        "    .loc[lambda x: x.coef != 'constant', ['coef', 'estimate', 'ci_length', 'hits0']]\n",
        ")\n",
        "\n",
        "colors = {'True': 'indianred', 'False': 'steelblue'}\n",
        "\n",
        "fig, ax = plt.subplots()\n",
        "\n",
        "ax.axhline(y=0, color=\"black\", linestyle=(0, (1, 1)))\n",
        "ax.set(\n",
        "    ylabel=None,\n",
        "    xlabel=\"Coefficient Estimate\",\n",
        "    title=\"Coefficient Estimates\",\n",
        "    xticks=coefTable.index, xticklabels=coefTable.coef\n",
        "    )\n",
        "\n",
        "for hit_type in np.unique(coefTable.hits0):\n",
        "    color = colors[str(hit_type)]\n",
        "    df_subset = coefTable.query(f'hits0 == {hit_type}')\n",
        "    ax.errorbar(\n",
        "        df_subset.index, df_subset.estimate, yerr=df_subset.ci_length,\n",
        "        marker='o', color=color, ls='', ms=5, capsize=5, label=hit_type\n",
        "    )\n",
        "\n",
        "plt.show()"
      ],
      "id": "42aa4306",
      "execution_count": null,
      "outputs": []
    }
  ],
  "metadata": {
    "kernelspec": {
      "name": "python3",
      "language": "python",
      "display_name": "Python 3 (ipykernel)"
    }
  },
  "nbformat": 4,
  "nbformat_minor": 5
}