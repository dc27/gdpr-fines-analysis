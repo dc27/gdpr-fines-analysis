{
  "cells": [
    {
      "cell_type": "raw",
      "metadata": {},
      "source": [
        "---\n",
        "title: GDPR Fines Data Exploration\n",
        "---"
      ],
      "id": "8b0bf681"
    },
    {
      "cell_type": "markdown",
      "metadata": {},
      "source": [
        "## Setup\n"
      ],
      "id": "e3538ba7"
    },
    {
      "cell_type": "code",
      "metadata": {
        "tags": []
      },
      "source": [
        "import numpy as np\n",
        "import pandas as pd\n",
        "import matplotlib.pyplot as plt\n",
        "import matplotx\n",
        "import seaborn as sns\n",
        "\n",
        "# grab functions from script files. we're in a subdirectory so...\n",
        "import sys\n",
        "sys.path.append(r\"../\")\n",
        "\n",
        "from scripts.wrangling_funs import filter_for_positives, strip_text_col, pivot_fines_longer\n",
        "\n",
        "plt.style.context(matplotx.styles.dufte)\n",
        "plt.rcParams[\"figure.figsize\"] = (8, 5)"
      ],
      "id": "8385d0d4",
      "execution_count": null,
      "outputs": []
    },
    {
      "cell_type": "markdown",
      "metadata": {},
      "source": [
        "The data for this project is scraped from: [Privacy Affairs: GDPR Fines List](https://www.privacyaffairs.com/gdpr-fines/). The scraped data is included in `data/scraped_gdpr_fines.csv`\n"
      ],
      "id": "0ec15940"
    },
    {
      "cell_type": "code",
      "metadata": {},
      "source": [
        "fines = pd.read_csv(\"../data/scraped_fines.csv\", parse_dates=[\"date\"])"
      ],
      "id": "7d4eb254",
      "execution_count": null,
      "outputs": []
    },
    {
      "cell_type": "code",
      "metadata": {
        "tags": []
      },
      "source": [
        "fines.describe().transpose()"
      ],
      "id": "ffe8831d",
      "execution_count": null,
      "outputs": []
    },
    {
      "cell_type": "markdown",
      "metadata": {},
      "source": [
        "Before performing analysis a minor amount of cleaning is required for the 'raw' data\n",
        "\n",
        "1. remove fines with 0 price\n",
        "2. remove whitespace from type column\n"
      ],
      "id": "d4e00667"
    },
    {
      "cell_type": "code",
      "metadata": {},
      "source": [
        "fines_nozero = (\n",
        "    fines\n",
        "    .pipe(filter_for_positives, \"price\")\n",
        "    .pipe(strip_text_col, \"type\")\n",
        ")"
      ],
      "id": "5a571ac3",
      "execution_count": null,
      "outputs": []
    },
    {
      "cell_type": "markdown",
      "metadata": {},
      "source": [
        "# Questions\n",
        "\n",
        "## Big Picture\n",
        "\n",
        "1. How are the fine amounts distributed?\n",
        "2. How does the distribution of fine amount change over time?\n",
        "\n",
        "### How are the fines distributed?\n"
      ],
      "id": "1a94c1f3"
    },
    {
      "cell_type": "code",
      "metadata": {
        "tags": []
      },
      "source": [
        "fig, ax = plt.subplots()\n",
        "\n",
        "sns.histplot(\n",
        "    fines_nozero, x=\"price\",\n",
        "    edgecolor=\"white\", linewidth=.5, facecolor=\"midnightblue\",\n",
        "    log_scale=True, binrange=(0, 10),\n",
        "    ax=ax\n",
        ")\n",
        "\n",
        "for bar in ax.patches:\n",
        "    bar.set_alpha(0.70) \n",
        "\n",
        "ax.set(xlabel= None, ylabel=None)\n",
        "ax.xaxis.set_major_formatter('{x:,.0f} €')\n",
        "\n",
        "fig.supylabel(t=\"GDPR Violations\")\n",
        "fig.supxlabel(t=\"GDPR Fine (Euro)\")\n",
        "\n",
        "fig.canvas.draw()\n",
        "\n",
        "fig.suptitle(\n",
        "    t=\"GDPR Fine Distributions (Log Scale)\", \n",
        "    x=ax.get_position().x0,\n",
        "    ha='left', fontsize=16,\n",
        ")\n",
        "\n",
        "plt.show()"
      ],
      "id": "b128ad73",
      "execution_count": null,
      "outputs": []
    },
    {
      "cell_type": "markdown",
      "metadata": {},
      "source": [
        "### How has the distribution of fines changed over time?\n"
      ],
      "id": "c003493a"
    },
    {
      "cell_type": "code",
      "metadata": {
        "tags": []
      },
      "source": [
        "df = (fines_nozero.assign(\n",
        "    year = lambda x: x.date.dt.year\n",
        "))\n",
        "\n",
        "# make data more friendly for matplotlib\n",
        "prices_each_year = df.groupby('year')['price'].apply(lambda x: x.values)\n",
        "\n",
        "# Get the years as labels\n",
        "labels = list(prices_each_year.keys())\n",
        "labels.sort()\n",
        "\n",
        "#create a figure with subplots\n",
        "fig, ax = plt.subplots(1, 2,\n",
        "                       gridspec_kw={'width_ratios': [1, 7]},\n",
        "                       sharey=True, layout='constrained')\n",
        "\n",
        "# Create a boxplot for the year 1970\n",
        "box1 = ax[0].boxplot(prices_each_year[1970], labels=['1970'], widths=0.4, showfliers=False, medianprops={'color':'black', 'linewidth':2})\n",
        "ax[0].set_ylabel('Price')\n",
        "\n",
        "\n",
        "# Create a boxplot for the years other than 1970\n",
        "years_other_than_1970 = [year for year in labels if year != 1970]\n",
        "box2 = ax[1].boxplot([prices_each_year[year] for year in years_other_than_1970],\n",
        "              labels=years_other_than_1970, showfliers=False, widths=0.4,\n",
        "              medianprops={'color':'black', 'linewidth':2})\n",
        "\n",
        "# smaller caps\n",
        "for box in list((box1, box2)):\n",
        "    for cap in box['caps']:\n",
        "        cap.set_xdata(cap.get_xdata() - [-0.05, 0.05])\n",
        "\n",
        "ax[1].set_ylabel(None)\n",
        "\n",
        "jittered_x = np.random.normal(0 + 1, 0.1, len(prices_each_year[1970]))\n",
        "ax[0].scatter(jittered_x, prices_each_year[1970], alpha=0.05, color='midnightblue', s=10)\n",
        "\n",
        "\n",
        "# Overlay the data points for the years other than 1970\n",
        "for i, year in enumerate(years_other_than_1970):\n",
        "    jittered_x = np.random.normal(i + 1, 0.1, len(prices_each_year[year]))\n",
        "    ax[1].scatter(jittered_x, prices_each_year[year], alpha=0.05, color='midnightblue', s=10)\n",
        "\n",
        "ax[1].set_yscale('log')\n",
        "ax[1].yaxis.set_major_formatter('€ {x:,.0f}')\n",
        "\n",
        "# draw the figure to apply constrained_layout (req for positioning suptitle)\n",
        "fig.canvas.draw()\n",
        "\n",
        "fig.suptitle(\n",
        "    t=\"How has the distribution of fines changed over time?\", \n",
        "    ha='left',\n",
        "    x=ax[0].get_position().x0,\n",
        "    fontsize=16,\n",
        "    y=1.1,\n",
        "    va='top'\n",
        ")\n",
        "\n",
        "# subtitle\n",
        "plt.figtext(ax[0].get_position().x0, 1, \"GDPR Fine Distributions Over Time (Log Scale)\", va=\"bottom\", ha=\"left\", size=12)\n",
        "plt.show()"
      ],
      "id": "9e69b2df",
      "execution_count": null,
      "outputs": []
    },
    {
      "cell_type": "markdown",
      "metadata": {},
      "source": [
        "## Controllers\n",
        "\n",
        "1. Who pays the most?\n",
        "2. Who pays the most often? \n",
        "\n",
        "Some data wrangling is required to create a summary view for each controller. Ideally for each separate controller it would be good to construct a table with:\n",
        "\n",
        "- the controller name\n",
        "- the number of times that controller has been fined\n",
        "- the sum of the fines that controller has had to pay\n",
        "- the mean of the fines that controller has had to pay\n",
        "\n",
        "This is useful for direct comparison.\n",
        "\n",
        "The large companies (e.g. Meta, Amazon) often have multiple different controller names. For simplicity in communication these have been combined (i.e. Meta/Facebook refers to any controller regarding Meta/Facebook: Meta Platforms Inc. (Facebook), Meta Platforms Ireland Limited (Facebook), etc.)\n",
        "\n",
        "\n",
        "### Who pays the most?\n"
      ],
      "id": "e5afef4c"
    },
    {
      "cell_type": "code",
      "metadata": {
        "tags": []
      },
      "source": [
        "def strfind(series, term):\n",
        "    \"\"\"\"\n",
        "    time-saver\n",
        "    \"\"\"\n",
        "    return series.str.contains(term, case=False)\n",
        "\n",
        "# Give multi-national corps standard names\n",
        "# Facebook/Meta Ireland -> Facebook/Meta\n",
        "fines_controller_gb = (\n",
        "    fines_nozero\n",
        "    .assign(\n",
        "        shortname = lambda x: np.select(\n",
        "            [strfind(x.controller, \"Facebook\"), strfind(x.controller, \"Meta \"), strfind(x.controller, \"Amazon\"),\n",
        "             strfind(x.controller, \"Google\"), strfind(x.controller, \"Microsoft\"), strfind(x.controller, \"Vodafone\"),\n",
        "             strfind(x.controller, \"WhatsApp\"), strfind(x.controller, \"Clearview\"), strfind(x.controller, \"H&M\"),\n",
        "             strfind(x.controller, \"Marriott\")],\n",
        "            [\"Facebook/Meta\", \"Facebook/Meta\", \"Amazon\",\n",
        "             \"Google\", \"Microsoft\", \"Vodafone\",\n",
        "             \"WhatsApp\", \"Clearview AI\", \"H&M\",\n",
        "             \"Marriot\"],\n",
        "            x.controller\n",
        "        )\n",
        "    )\n",
        "    .assign(shortname = lambda x: x.shortname.str.title().str.strip().replace(\"\"))\n",
        "    .groupby('shortname')\n",
        ")\n",
        "\n",
        "controller_counts = fines_controller_gb.size().to_frame(name='counts')\n",
        "controller_stats = (\n",
        "    controller_counts\n",
        "    .join(fines_controller_gb.agg({'price':'sum'}).rename(columns={'price':'total_price'}))\n",
        "    .join(fines_controller_gb.agg({'price':'mean'}).rename(columns={'price':'mean_price'}))\n",
        "    .reset_index()\n",
        ")\n",
        "\n",
        "controller_stats.sort_values('total_price', ascending=False).head(3)"
      ],
      "id": "5e493c5a",
      "execution_count": null,
      "outputs": []
    },
    {
      "cell_type": "code",
      "metadata": {
        "tags": []
      },
      "source": [
        "TOP_N = 10\n",
        "\n",
        "fig, ax = plt.subplots()\n",
        "\n",
        "sns.barplot(y='shortname', x='total_price', data=controller_stats.nlargest(TOP_N, columns='total_price'),\n",
        "            color='midnightblue', ax=ax, orient='h', alpha=0.8)\n",
        "\n",
        "ax.set(xlabel=\"Total Amount Paid in Fines\", ylabel=None)\n",
        "ax.xaxis.set_major_formatter('{x:,.0f} €')\n",
        "ax.set_title(label=f\"Total Amount Paid in Fines Controllers (Top {TOP_N})\", loc=\"left\", ha=\"left\", size=12)\n",
        "fig.suptitle(t=\"Who Pays the Most?\", x=ax.get_position().get_points()[0][0], ha='left', fontsize=16, y=0.95)\n",
        "\n",
        "plt.show()"
      ],
      "id": "0c60289f",
      "execution_count": null,
      "outputs": []
    },
    {
      "cell_type": "markdown",
      "metadata": {},
      "source": [
        "### Who Pays the Most Often?\n"
      ],
      "id": "ccd86055"
    },
    {
      "cell_type": "code",
      "metadata": {
        "tags": []
      },
      "source": [
        "DONT_INCLUDE = [\"Private Individual\", \"Unknown\", \"Company\", \"Unknown Company\", \"Not Available\"]\n",
        "\n",
        "fig, ax = plt.subplots()\n",
        "\n",
        "sns.barplot(y='shortname', x='counts',\n",
        "            data=controller_stats.query(f'~shortname.isin({DONT_INCLUDE})').nlargest(n=TOP_N, columns='counts'),\n",
        "            color='midnightblue', ax=ax, orient='h', alpha=0.8)\n",
        "\n",
        "ax.set(xlabel=\"n Times Fined\", ylabel=None, xticks=range(0, controller_stats.counts.max(), 10))\n",
        "ax.xaxis.set_major_formatter('{x:,.0f}')\n",
        "\n",
        "# title and subtitle\n",
        "ax.set_title(label=f\"Number of Times Each Controller has been Fined (Top {TOP_N})\", loc=\"left\", ha=\"left\", size=12)\n",
        "fig.suptitle(t=\"Who Pays the Most Often?\", x=ax.get_position().get_points()[0][0], ha='left', fontsize=16, y=0.95)\n",
        "\n",
        "plt.show()"
      ],
      "id": "f0656249",
      "execution_count": null,
      "outputs": []
    },
    {
      "cell_type": "markdown",
      "metadata": {},
      "source": [
        "## Article References\n",
        "\n",
        "At present the data is structured such that each row represents a single instance of an entity being fined in violation of one or more GDPR articles. It's possible for a single fine to be in reference to multiple articles being violated. To look at specific article violations (i.e. one row per article violation) the data will need to elongated.\n"
      ],
      "id": "4fc9050c"
    },
    {
      "cell_type": "code",
      "metadata": {},
      "source": [
        "fines_long = pivot_fines_longer(fines_nozero)"
      ],
      "id": "f12466c4",
      "execution_count": null,
      "outputs": []
    },
    {
      "cell_type": "markdown",
      "metadata": {},
      "source": [
        "### Which articles are referenced the most often?\n"
      ],
      "id": "f1296129"
    },
    {
      "cell_type": "code",
      "metadata": {
        "tags": []
      },
      "source": [
        "# df showing article next to how often it was referenced.\n",
        "n_citations = (\n",
        "    fines_long\n",
        "    .value_counts('article_number')\n",
        "    .reset_index(name='count')\n",
        "    .sort_values('article_number')\n",
        ")"
      ],
      "id": "f540e629",
      "execution_count": null,
      "outputs": []
    },
    {
      "cell_type": "code",
      "metadata": {
        "tags": []
      },
      "source": [
        "MIN_OCCURENCES = 30\n",
        "\n",
        "fig, ax = plt.subplots()\n",
        "\n",
        "sns.barplot(x='article_number', y='count', data=n_citations.query(f'count >= {MIN_OCCURENCES}'), orient='v', color='grey', ax=ax)\n",
        "ax.tick_params(axis='y', which='major', labelsize=8)\n",
        "ax.set(xlabel='Article Number', ylabel='Number of Associated Violations/Fines')\n",
        "\n",
        "# title + subtitle\n",
        "ax.set_title(f'At least than {MIN_OCCURENCES} instances', loc='left')\n",
        "fig.suptitle('Number of Fines by Article Number', x=ax.get_position().get_points()[0][0], ha='left', fontsize=16, y=0.975)\n",
        "\n",
        "plt.show()"
      ],
      "id": "531badac",
      "execution_count": null,
      "outputs": []
    },
    {
      "cell_type": "code",
      "metadata": {},
      "source": [
        "MIN_OCCURENCES = 30\n",
        "\n",
        "df = n_citations.query(f'count >= {MIN_OCCURENCES}').merge(fines_long, how='inner', left_on='article_number', right_on='article_number')\n",
        "\n",
        "fig, ax = plt.subplots()\n",
        "\n",
        "sns.stripplot(\n",
        "    x='article_number',\n",
        "    y='total_fine_euro',\n",
        "    data=df,\n",
        "    color='black',\n",
        "    jitter=0.15,\n",
        "    size=3.5,\n",
        "    alpha=0.05,\n",
        "    ax=ax,\n",
        "    zorder=1\n",
        ")\n",
        "\n",
        "sns.boxplot(\n",
        "    x='article_number',\n",
        "    y='total_fine_euro',\n",
        "    data=df,\n",
        "    ax=ax,\n",
        "    showfliers=False,\n",
        "    boxprops={'facecolor':'none'}\n",
        ")\n",
        "\n",
        "ax.set_yscale(\"log\")\n",
        "ax.set_title(label='', loc='left')\n",
        "ax.set(xlabel=\"\\nArticle Number\", ylabel='Total Fine (€)')\n",
        "\n",
        "# title + subtitle\n",
        "ax.set_title(f'At least than {MIN_OCCURENCES} instances', loc='left')\n",
        "fig.suptitle('Distribution of Total Fine per Article\\'s inclusion', x=ax.get_position().get_points()[0][0], ha='left', fontsize=16, y=0.975);"
      ],
      "id": "d72c02f8",
      "execution_count": null,
      "outputs": []
    }
  ],
  "metadata": {
    "kernelspec": {
      "name": "python3",
      "language": "python",
      "display_name": "Python 3 (ipykernel)"
    }
  },
  "nbformat": 4,
  "nbformat_minor": 5
}